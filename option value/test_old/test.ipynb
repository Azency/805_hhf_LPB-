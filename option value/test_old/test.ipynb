{
 "cells": [
  {
   "cell_type": "markdown",
   "metadata": {},
   "source": [
    "# 生成死亡概率模型"
   ]
  },
  {
   "cell_type": "code",
   "execution_count": 35,
   "metadata": {},
   "outputs": [
    {
     "data": {
      "text/plain": [
       "[]"
      ]
     },
     "execution_count": 35,
     "metadata": {},
     "output_type": "execute_result"
    }
   ],
   "source": [
    "a = [0]*0\n",
    "a"
   ]
  },
  {
   "cell_type": "code",
   "execution_count": 1,
   "metadata": {},
   "outputs": [
    {
     "name": "stderr",
     "output_type": "stream",
     "text": [
      "/home/hhf/.local/lib/python3.11/site-packages/pandas/core/arrays/masked.py:60: UserWarning: Pandas requires version '1.3.6' or newer of 'bottleneck' (version '1.3.5' currently installed).\n",
      "  from pandas.core import (\n"
     ]
    }
   ],
   "source": [
    "ax_path = \"./data/lc_ax_female.csv\"\n",
    "bx_path = \"./data/lc_bx_female.csv\"\n",
    "kt_path = \"./data/lc_kt_female.csv\"\n",
    "path = [ax_path, bx_path, kt_path]\n",
    "\n",
    "import Prob \n",
    "death_Prob = Prob.D_Prob()\n",
    "death_Prob.read_abk(path)\n",
    "\n",
    "import ST\n",
    "import numpy as np\n",
    "np.random.seed(8)  # 设置固定的随机数种子\n"
   ]
  },
  {
   "cell_type": "code",
   "execution_count": 2,
   "metadata": {},
   "outputs": [],
   "source": [
    "def MC(M:int, x0, T0, lifespan):\n",
    "    T = lifespan - x0\n",
    "    p = 1\n",
    "    buff_day = 10*21*12 # 为了更精细划分S_t\n",
    "    N = buff_day * T * p  # 按年积累,希望应该是buff_day*T*p\n",
    "    S0 = 1.0\n",
    "    r = 0.05\n",
    "    l =  0.001146\n",
    "    g = 0\n",
    "    sigma = 0.2\n",
    "\n",
    "    unit_P_cache = {}  # 用于存储unit_P的结果\n",
    "    result = []\n",
    "    avg_res = []\n",
    "    fee_result = []\n",
    "    ave = []\n",
    "\n",
    "    for j in range(1, M + 1):\n",
    "        t_all, int_item = ST.intg_item(N, T, S0, r, l, g, sigma)\n",
    "        intern_res = 0  # 内部的离散积分值，这里以年为单位\n",
    "        int_death_payoff = 0\n",
    "        for i in range(0, T * p):\n",
    "            if i not in unit_P_cache:\n",
    "                unit_P_cache[i] = death_Prob.unit_P(x0, T0, i, p)\n",
    "            intern_res += int_item[int((i + 1) * buff_day) - 1] * unit_P_cache[i]\n",
    "            int_death_payoff += np.exp(-l*t_all[int((i+1)*buff_day) - 1])*unit_P_cache[i]\n",
    "        intern_res = intern_res + int_item[-1] * death_Prob.accu_live(x0, T0, T, 0)\n",
    "        fee = 1 - int_death_payoff - death_Prob.accu_live(x0, T0, T, 0)*np.exp(-l*T)\n",
    "        result.append(intern_res)\n",
    "        ave_j = np.mean(result)\n",
    "        ave.append(ave_j)\n",
    "        fee_result.append(fee)\n",
    "    avg_res = np.mean(result)\n",
    "    fee_avg_res = np.mean(fee) \n",
    "    \n",
    "\n",
    "    return avg_res, fee_avg_res, ave"
   ]
  },
  {
   "cell_type": "code",
   "execution_count": 3,
   "metadata": {},
   "outputs": [],
   "source": [
    "# def MC(M, x0, T0, lifespan, l):\n",
    "#     '''\n",
    "#     M : 蒙特卡洛模拟次数\n",
    "#     x0 : 投保的年龄\n",
    "#     T0 : 投保的公元年份\n",
    "#     lifespan : 预期最长的寿命\n",
    "#     l : 死亡率\n",
    "#     '''\n",
    "#     T = lifespan - x0\n",
    "#     p = 1\n",
    "#     buff_day = 10*21*12\n",
    "#     N = buff_day * T * p\n",
    "#     S0 = 1.0\n",
    "#     r = 0.05\n",
    "#     g = 0.2\n",
    "#     sigma = 0.2\n",
    "\n",
    "# # 在第一次蒙特卡洛迭代前初始化缓存\n",
    "#     unit_P_cache = {}  # 用于存储unit_P的结果\n",
    "\n",
    "#     result = []\n",
    "#     avg_res = []\n",
    "#     fee_result = []\n",
    "#     for j in range(M):\n",
    "#         t_all, int_item = ST.intg_item(N, T, S0, r, l, g, sigma)\n",
    "\n",
    "#         intern_res = 0\n",
    "#         int_death_payoff = 0\n",
    "#         for i in range(T * p):\n",
    "#             # 检查是否已经计算过这个值\n",
    "#             if i not in unit_P_cache:\n",
    "#                 # 如果没有缓存，计算并存入缓存\n",
    "#                 unit_P_cache[i] = death_Prob.unit_P(x0, T0, i, p)\n",
    "#             intern_res += int_item[int((i + 1) * buff_day) - 1] * unit_P_cache[i]\n",
    "#             # intern_res += int_item[int((i+1)*buff_day) - 1] * death_Prob.unit_P(x0, T0, i, p)\n",
    "#             int_death_payoff += np.exp(-l*t_all[int((i+1)*buff_day) - 1])*unit_P_cache[i]\n",
    "#         intern_res = intern_res + int_item[-1] * death_Prob.accu_live(x0, T0, T, 0)\n",
    "#         fee = 1 - int_death_payoff - death_Prob.accu_live(x0, T0, T, 0)*np.exp(-l*T)\n",
    "#         result.append(intern_res)\n",
    "#         fee_result.append(fee)\n",
    "#     avg_res = np.mean(result)\n",
    "#     fee_avg_res = np.mean(fee)\n",
    "        \n",
    "#     return avg_res, fee_avg_res\n"
   ]
  },
  {
   "cell_type": "code",
   "execution_count": 4,
   "metadata": {},
   "outputs": [],
   "source": [
    "# def MC(M, k, p, buff_day, S0, r, g, x0, T0, lifespan, l):\n",
    "#     '''\n",
    "#     M : 蒙特卡洛模拟次数\n",
    "#     x0 : 投保的年龄\n",
    "#     T0 : 投保的公元年份\n",
    "#     lifespan : 预期最长的寿命\n",
    "#     l : 死亡率\n",
    "#     '''\n",
    "#     T = lifespan - x0 - k\n",
    "#     N = buff_day * T * p\n",
    "#     sigma = 0.2\n",
    "\n",
    "#     interval_P_cache = {}\n",
    "#     terminal_live_cache = {}\n",
    "#     result = []\n",
    "#     avg_res = []\n",
    "#     ave = []\n",
    "#     fee_result = []\n",
    "\n",
    "#     for i in range(0, (lifespan - x0) * p):\n",
    "#             # print(i)\n",
    "#             if i not in terminal_live_cache:\n",
    "#                 terminal_live_cache[i] = death_Prob.interval_terminal_live(x0, T0, i, lifespan - x0, p)\n",
    "#             print(terminal_live_cache)\n",
    "#             for j in range(i + 1, (lifespan - x0) * p + 1):\n",
    "#                 if i == 0:\n",
    "#                     interval_P_cache[(i, j-1)] = death_Prob.unit_P(x0, T0, j-1, p)\n",
    "#                 elif (i, j-1) not in interval_P_cache:\n",
    "#                     interval_P_cache[(i, j-1)] = death_Prob.interval_death_P(x0, T0, i-1, j-1, p)\n",
    "#             print(interval_P_cache)\n",
    "\n",
    "#     for _ in range(M):\n",
    "#         t_all, int_item = ST.intg_item(N, T, S0, r, l, g, sigma)\n",
    "#         intern_res = 0  # 内部的离散积分值，这里以年为单位\n",
    "#         int_death_payoff = 0\n",
    "#         for w in range(T * p):\n",
    "#             intern_res += int_item[int((w + 1) * buff_day) - 1] * interval_P_cache[(k, w+k)]\n",
    "#             print(\"interval_P_cache\",interval_P_cache[(k, w+k)])\n",
    "#             int_death_payoff += np.exp(-l*t_all[int((w+1)*buff_day) - 1])*interval_P_cache[(k, w+k)]\n",
    "#         intern_res = intern_res + int_item[-1] * terminal_live_cache[k]\n",
    "#         print(\"terminal_live_cache\", terminal_live_cache[k])\n",
    "#         fee = 1 - int_death_payoff - terminal_live_cache[k]*np.exp(-l*T)\n",
    "\n",
    "#         result.append(intern_res)\n",
    "#         ave_j = np.mean(result)\n",
    "#         ave.append(ave_j)###用于画图，看结果稳不稳定\n",
    "#         fee_result.append(fee)\n",
    "\n",
    "#     avg_res = np.mean(result)\n",
    "#     fee_avg_res = np.mean(fee) \n",
    "\n",
    "#     return avg_res, fee_avg_res, ave\n"
   ]
  },
  {
   "cell_type": "code",
   "execution_count": 5,
   "metadata": {},
   "outputs": [
    {
     "ename": "KeyboardInterrupt",
     "evalue": "",
     "output_type": "error",
     "traceback": [
      "\u001b[0;31m---------------------------------------------------------------------------\u001b[0m",
      "\u001b[0;31mKeyboardInterrupt\u001b[0m                         Traceback (most recent call last)",
      "Cell \u001b[0;32mIn[5], line 2\u001b[0m\n\u001b[1;32m      1\u001b[0m \u001b[38;5;66;03m#2020年50岁的投保人，合同截至在其95岁\u001b[39;00m\n\u001b[0;32m----> 2\u001b[0m avg_res, fee_avg_res, ave \u001b[38;5;241m=\u001b[39m MC(\u001b[38;5;241m6000\u001b[39m, \u001b[38;5;241m50\u001b[39m, \u001b[38;5;241m2020\u001b[39m, \u001b[38;5;241m75\u001b[39m)\n",
      "Cell \u001b[0;32mIn[2], line 19\u001b[0m, in \u001b[0;36mMC\u001b[0;34m(M, x0, T0, lifespan)\u001b[0m\n\u001b[1;32m     16\u001b[0m ave \u001b[38;5;241m=\u001b[39m []\n\u001b[1;32m     18\u001b[0m \u001b[38;5;28;01mfor\u001b[39;00m j \u001b[38;5;129;01min\u001b[39;00m \u001b[38;5;28mrange\u001b[39m(\u001b[38;5;241m1\u001b[39m, M \u001b[38;5;241m+\u001b[39m \u001b[38;5;241m1\u001b[39m):\n\u001b[0;32m---> 19\u001b[0m     t_all, int_item \u001b[38;5;241m=\u001b[39m ST\u001b[38;5;241m.\u001b[39mintg_item(N, T, S0, r, l, g, sigma)\n\u001b[1;32m     20\u001b[0m     intern_res \u001b[38;5;241m=\u001b[39m \u001b[38;5;241m0\u001b[39m  \u001b[38;5;66;03m# 内部的离散积分值，这里以年为单位\u001b[39;00m\n\u001b[1;32m     21\u001b[0m     int_death_payoff \u001b[38;5;241m=\u001b[39m \u001b[38;5;241m0\u001b[39m\n",
      "File \u001b[0;32m~/MC_Death_benefit/option value/ST.py:59\u001b[0m, in \u001b[0;36mintg_item\u001b[0;34m(N, T, S0, r, l, g, sigma)\u001b[0m\n\u001b[1;32m     57\u001b[0m final_int \u001b[38;5;241m=\u001b[39m np\u001b[38;5;241m.\u001b[39mzeros(N)\n\u001b[1;32m     58\u001b[0m \u001b[38;5;28;01mfor\u001b[39;00m i \u001b[38;5;129;01min\u001b[39;00m \u001b[38;5;28mrange\u001b[39m(N):\n\u001b[0;32m---> 59\u001b[0m     final_int[i] \u001b[38;5;241m=\u001b[39m np\u001b[38;5;241m.\u001b[39mexp(\u001b[38;5;241m-\u001b[39mr \u001b[38;5;241m*\u001b[39m t[i]) \u001b[38;5;241m*\u001b[39m np\u001b[38;5;241m.\u001b[39mmaximum(np\u001b[38;5;241m.\u001b[39mexp(g\u001b[38;5;241m*\u001b[39mt[i]) \u001b[38;5;241m-\u001b[39m St[i], \u001b[38;5;241m0\u001b[39m)\n\u001b[1;32m     61\u001b[0m     \u001b[38;5;66;03m# final_int[i] = np.exp(-r * t[i]) * np.maximum(np.exp(g*t[i]), St[i])\u001b[39;00m\n\u001b[1;32m     62\u001b[0m     \u001b[38;5;66;03m# print(\"exp(-r * t[i])\",np.exp(-r * t[i]))\u001b[39;00m\n\u001b[1;32m     63\u001b[0m     \u001b[38;5;66;03m# print(\"maximum\",np.maximum(np.exp(g*t[i]) - St[i], 0))\u001b[39;00m\n\u001b[1;32m     64\u001b[0m     \u001b[38;5;66;03m# print(\"final_int[i]\",final_int[i])\u001b[39;00m\n\u001b[1;32m     66\u001b[0m \u001b[38;5;28;01mreturn\u001b[39;00m t, final_int\n",
      "\u001b[0;31mKeyboardInterrupt\u001b[0m: "
     ]
    }
   ],
   "source": [
    "#2020年50岁的投保人，合同截至在其95岁\n",
    "avg_res, fee_avg_res, ave = MC(6000, 50, 2020, 75)\n"
   ]
  },
  {
   "cell_type": "code",
   "execution_count": null,
   "metadata": {},
   "outputs": [
    {
     "name": "stdout",
     "output_type": "stream",
     "text": [
      "0.027142249787233206 0.027356810969937473\n"
     ]
    }
   ],
   "source": [
    "print(avg_res, fee_avg_res)"
   ]
  },
  {
   "cell_type": "code",
   "execution_count": null,
   "metadata": {},
   "outputs": [
    {
     "data": {
      "image/png": "[encoded data removed]",
      "text/plain": [
       "<Figure size 640x480 with 1 Axes>"
      ]
     },
     "metadata": {},
     "output_type": "display_data"
    }
   ],
   "source": [
    "import matplotlib.pyplot as plt\n",
    "plt.plot(list(range(len(ave))), ave)\n",
    "plt.xlabel('(t)')\n",
    "plt.ylabel('ST(W)')\n",
    "plt.grid(True)\n",
    "plt.show()"
   ]
  },
  {
   "cell_type": "markdown",
   "metadata": {},
   "source": [
    "# 蒙特卡洛"
   ]
  },
  {
   "cell_type": "code",
   "execution_count": 1,
   "metadata": {},
   "outputs": [
    {
     "name": "stderr",
     "output_type": "stream",
     "text": [
      "/home/hhf/.local/lib/python3.11/site-packages/pandas/core/arrays/masked.py:60: UserWarning: Pandas requires version '1.3.6' or newer of 'bottleneck' (version '1.3.5' currently installed).\n",
      "  from pandas.core import (\n"
     ]
    }
   ],
   "source": [
    "ax_path = \"./data/lc_ax_female(1).csv\"\n",
    "bx_path = \"./data/lc_bx_female(1).csv\"\n",
    "kt_path = \"./data/lc_kt_female(1).csv\"\n",
    "path = [ax_path, bx_path, kt_path]\n",
    "\n",
    "import Prob \n",
    "death_Prob = Prob.D_Prob()\n",
    "death_Prob.read_abk(path)\n",
    "\n",
    "import ST\n",
    "import numpy as np\n",
    "from statistics import mean\n",
    "\n",
    "np.random.seed(8)  # 设置固定的随机数种子\n"
   ]
  },
  {
   "cell_type": "code",
   "execution_count": 2,
   "metadata": {},
   "outputs": [],
   "source": [
    "import pandas as pd\n",
    "import os\n",
    "\n",
    "lifespan =92\n",
    "x0 = 67\n",
    "T0 = 2020\n",
    "p = 1\n",
    "\n",
    "terminal_live_cache_file = f'./data/terminal_live_cache_{x0}.csv'\n",
    "interval_P_cache_file = f'./data/interval_P_cache_{x0}.csv'\n",
    "\n",
    "# 尝试从CSV文件读取数据\n",
    "if os.path.exists(terminal_live_cache_file):\n",
    "    terminal_live_cache = pd.read_csv(terminal_live_cache_file, index_col=0).to_dict()['Value']\n",
    "else:\n",
    "    terminal_live_cache = {}\n",
    "\n",
    "if os.path.exists(interval_P_cache_file):\n",
    "    interval_P_cache_df = pd.read_csv(interval_P_cache_file)\n",
    "    interval_P_cache = {(row['Start'], row['End']): row['Value'] for index, row in interval_P_cache_df.iterrows()}\n",
    "else:\n",
    "    interval_P_cache = {}\n",
    "\n",
    "for i in range(0, (lifespan - x0) * p):\n",
    "    if i == 0:\n",
    "        terminal_live_cache[i] = death_Prob.accu_live(x0, T0, lifespan - x0, 0)\n",
    "    elif i not in terminal_live_cache:\n",
    "        terminal_live_cache[i] = death_Prob.interval_terminal_live(x0, T0, i, lifespan - x0, p)\n",
    "    for j in range(i + 1, (lifespan - x0) * p + 1):\n",
    "        if i == 0:\n",
    "            interval_P_cache[(i, j-1)] = death_Prob.unit_P(x0, T0, j-1, p)\n",
    "        elif (i, j-1) not in interval_P_cache:\n",
    "            # print(i, j-1)\n",
    "            interval_P_cache[(i, j-1)] = death_Prob.interval_death_P(x0, T0, i-1, j-1, p)\n",
    "\n",
    "pd.DataFrame.from_dict(terminal_live_cache, orient='index', columns=['Value']).to_csv(terminal_live_cache_file)\n",
    "interval_P_cache_df = pd.DataFrame([(key[0], key[1], value) for key, value in interval_P_cache.items()], columns=['Start', 'End', 'Value'])\n",
    "interval_P_cache_df.to_csv(interval_P_cache_file, index=False)"
   ]
  },
  {
   "cell_type": "code",
   "execution_count": 3,
   "metadata": {},
   "outputs": [],
   "source": [
    "def MC(M, k, p, buff_day, S0, r, g, x0, T0, lifespan, l):\n",
    "    T = lifespan - x0 - k\n",
    "    N = buff_day * T * p\n",
    "    sigma = 0.2\n",
    "\n",
    "    # 你现有的MC函数代码继续\n",
    "    result = []\n",
    "    avg_res = []\n",
    "    ave = []\n",
    "    fee_result = []\n",
    "\n",
    "    for _ in range(M):\n",
    "        t_all, int_item = ST.intg_item(N, T, S0, r, l, g, sigma)\n",
    "        intern_res = 0  # 内部的离散积分值，这里以年为单位\n",
    "        int_death_payoff = 0\n",
    "        for w in range(T * p):\n",
    "            intern_res += int_item[int((w + 1) * buff_day) - 1] * interval_P_cache[(k, w+k)]\n",
    "            # print(\"interval_P_cache\",interval_P_cache[(k, w+k)])\n",
    "            int_death_payoff += np.exp(-l*t_all[int((w+1)*buff_day) - 1])*interval_P_cache[(k, w+k)]\n",
    "        intern_res = intern_res + int_item[-1] * terminal_live_cache[k]\n",
    "        # print(\"terminal_live_cache\", terminal_live_cache[k])\n",
    "        fee = 1 - int_death_payoff - terminal_live_cache[k]*np.exp(-l*T)\n",
    "\n",
    "        result.append(intern_res)\n",
    "        ave_j = np.mean(result)\n",
    "        ave.append(ave_j)###用于画图，看结果稳不稳定\n",
    "        fee_result.append(fee)\n",
    "\n",
    "    avg_res = np.mean(result)\n",
    "    fee_avg_res = np.mean(fee) \n",
    "\n",
    "    return avg_res, fee_avg_res, ave"
   ]
  },
  {
   "cell_type": "code",
   "execution_count": 4,
   "metadata": {},
   "outputs": [],
   "source": [
    "def preliminary_search_per_i(initial_l, k, step_size, M, p, buff_day, S0, r, g, x0, T0, lifespan, max_iter=100):\n",
    "    T = lifespan - x0 - k\n",
    "    # l = 0.000129 * T**2 - 0.010775 * T + 0.196646\n",
    "    l =  initial_l\n",
    "    lower_l, upper_l = None, None  # 初始化 lower_l 和 upper_l\n",
    "\n",
    "    # 首先减小 l 直到 fee_avg_res - avg_res[-1] 变为负值\n",
    "    for _ in range(max_iter):\n",
    "        print(\"l: \", l)\n",
    "        avg_res, fee_avg_res, _ = MC(M, k, p, buff_day, S0, r, g, x0, T0, lifespan, l)\n",
    "        print(\"max(exp(g*t), S_t): \", avg_res)\n",
    "        print(\"fee_avg_res: \", fee_avg_res)\n",
    "        if fee_avg_res - avg_res < 0:\n",
    "            upper_l = l + step_size  # 记录这个点的前一个点为 upper_l\n",
    "            break\n",
    "        l -= step_size\n",
    "\n",
    "    # 从取负值的 l 开始，反转方向，以较小的步长增加 l\n",
    "    step_size /= 3  # 减小步长\n",
    "    for _ in range(max_iter):\n",
    "        l += step_size\n",
    "        print(\"l: \", l)\n",
    "        avg_res, fee_avg_res, _ = MC(M, k, p, buff_day, S0, r, g, x0, T0, lifespan, l)\n",
    "        print(\"max(exp(g*t), S_t): \", avg_res)\n",
    "        print(\"fee_avg_res: \", fee_avg_res)\n",
    "        if fee_avg_res - avg_res > 0:\n",
    "            lower_l = l - step_size  # 记录这个点的前一个点为 lower_l\n",
    "            break\n",
    "\n",
    "    # 第二轮搜索：缩小搜索范围\n",
    "    new_lower_l = lower_l  # 初始化新的搜索范围\n",
    "    new_upper_l = upper_l\n",
    "    \n",
    "    l_mid = (lower_l + upper_l) / 2  # 找到当前范围的中点\n",
    "    avg_res_mid, fee_avg_res_mid, _ = MC(M, k, p, buff_day, S0, r, g, x0, T0, lifespan, l_mid)\n",
    "    if fee_avg_res_mid - avg_res_mid > 0:\n",
    "        new_upper_l = l_mid\n",
    "    else:\n",
    "        new_lower_l = l_mid\n",
    "            \n",
    "\n",
    "    return new_lower_l, new_upper_l\n"
   ]
  },
  {
   "cell_type": "code",
   "execution_count": 5,
   "metadata": {},
   "outputs": [],
   "source": [
    "def fine_search_per_i(M, k, p, buff_day, S0, r, g, x0, T0, lifespan, lower_l, upper_l, fine_step_size):\n",
    "    best_l = lower_l + fine_step_size #lower_l时diff<0,所以从lower_l+fine_step_size查看diff和0的区别\n",
    "    min_difference = np.inf\n",
    "    found_small_diff = False  # 标记是否找到小于0.0003的差异\n",
    "    \n",
    "    l = lower_l + fine_step_size\n",
    "    while l <= upper_l - fine_step_size:\n",
    "        print(\"l: \", l)\n",
    "        avg_res, fee_avg_res, _ = MC(M, k, p, buff_day, S0, r, g, x0, T0, lifespan, l)\n",
    "        print(\"max(exp(g*t), S_t): \", avg_res)\n",
    "        print(\"fee_avg_res: \", fee_avg_res)\n",
    "        difference = abs(fee_avg_res - avg_res)  # 计算差值的绝对值\n",
    "        # 如果找到了小于0.0003的差异，标记为True\n",
    "        if difference <0.000003:\n",
    "            break\n",
    "    \n",
    "        if difference < 0.0003:\n",
    "            found_small_diff = True\n",
    "        \n",
    "        # 在找到小于0.0003的差异后，如果差异又大于0.0025，结束搜索\n",
    "        if found_small_diff and difference > 0.002:\n",
    "            print(f\"Ending search: difference increased beyond 0.0025 after finding a smaller difference.\")\n",
    "            break  # 结束循环\n",
    "        \n",
    "        # 更新最小差异和最优l\n",
    "        if difference < min_difference:\n",
    "            min_difference = difference\n",
    "            best_l = l\n",
    "            \n",
    "        l += fine_step_size  # 使用非常小的步长\n",
    "    \n",
    "    print(f\"Best l before stopping: {best_l}, Min difference before stopping: {min_difference}\")\n",
    "    return best_l, min_difference\n",
    "\n"
   ]
  },
  {
   "cell_type": "code",
   "execution_count": 32,
   "metadata": {},
   "outputs": [
    {
     "name": "stdout",
     "output_type": "stream",
     "text": [
      "k: 24\n",
      "l:  0.15\n",
      "max(exp(g*t), S_t):  0.12501591676234147\n",
      "fee_avg_res:  0.1392920235749423\n",
      "l:  0.1494\n",
      "max(exp(g*t), S_t):  0.12639328508017006\n",
      "fee_avg_res:  0.13877544383066132\n",
      "l:  0.14880000000000002\n",
      "max(exp(g*t), S_t):  0.12572182346669758\n",
      "fee_avg_res:  0.1382585540455309\n",
      "l:  0.14820000000000003\n",
      "max(exp(g*t), S_t):  0.12292025796994378\n",
      "fee_avg_res:  0.13774135403347054\n",
      "l:  0.14760000000000004\n",
      "max(exp(g*t), S_t):  0.1277813954462145\n",
      "fee_avg_res:  0.13722384360828854\n",
      "l:  0.14700000000000005\n",
      "max(exp(g*t), S_t):  0.12289150556355148\n",
      "fee_avg_res:  0.1367060225836806\n",
      "l:  0.14640000000000006\n",
      "max(exp(g*t), S_t):  0.12289622628899786\n",
      "fee_avg_res:  0.1361878907732318\n",
      "l:  0.14580000000000007\n",
      "max(exp(g*t), S_t):  0.12252628951690368\n",
      "fee_avg_res:  0.13566944799041414\n",
      "l:  0.14520000000000008\n",
      "max(exp(g*t), S_t):  0.12304454239042267\n",
      "fee_avg_res:  0.13515069404858848\n",
      "l:  0.1446000000000001\n",
      "max(exp(g*t), S_t):  0.12310752416074512\n",
      "fee_avg_res:  0.1346316287610032\n",
      "l:  0.1440000000000001\n"
     ]
    },
    {
     "ename": "KeyboardInterrupt",
     "evalue": "",
     "output_type": "error",
     "traceback": [
      "\u001b[0;31m---------------------------------------------------------------------------\u001b[0m",
      "\u001b[0;31mKeyboardInterrupt\u001b[0m                         Traceback (most recent call last)",
      "Cell \u001b[0;32mIn[32], line 21\u001b[0m\n\u001b[1;32m     18\u001b[0m min_differences \u001b[38;5;241m=\u001b[39m []  \u001b[38;5;66;03m# 用于存储每个索引i对应的最小差值\u001b[39;00m\n\u001b[1;32m     20\u001b[0m \u001b[38;5;28mprint\u001b[39m(\u001b[38;5;124m\"\u001b[39m\u001b[38;5;124mk:\u001b[39m\u001b[38;5;124m\"\u001b[39m, k)\n\u001b[0;32m---> 21\u001b[0m lower_l, upper_l \u001b[38;5;241m=\u001b[39m preliminary_search_per_i(initial_l, k, step_size, M, p, buff_day, S0, r, g, x0, T0, lifespan, max_iter\u001b[38;5;241m=\u001b[39m\u001b[38;5;241m100\u001b[39m)\n\u001b[1;32m     22\u001b[0m \u001b[38;5;28mprint\u001b[39m(\u001b[38;5;124mf\u001b[39m\u001b[38;5;124m\"\u001b[39m\u001b[38;5;124m索引\u001b[39m\u001b[38;5;132;01m{\u001b[39;00mk\u001b[38;5;132;01m}\u001b[39;00m\u001b[38;5;124m,的lower_l, upper_l: \u001b[39m\u001b[38;5;132;01m{\u001b[39;00mlower_l\u001b[38;5;132;01m}\u001b[39;00m\u001b[38;5;124m, \u001b[39m\u001b[38;5;132;01m{\u001b[39;00mupper_l\u001b[38;5;132;01m}\u001b[39;00m\u001b[38;5;124m\"\u001b[39m)\n\u001b[1;32m     24\u001b[0m \u001b[38;5;28;01mif\u001b[39;00m lower_l \u001b[38;5;129;01mis\u001b[39;00m \u001b[38;5;129;01mnot\u001b[39;00m \u001b[38;5;28;01mNone\u001b[39;00m \u001b[38;5;129;01mand\u001b[39;00m upper_l \u001b[38;5;129;01mis\u001b[39;00m \u001b[38;5;129;01mnot\u001b[39;00m \u001b[38;5;28;01mNone\u001b[39;00m:\n",
      "Cell \u001b[0;32mIn[4], line 10\u001b[0m, in \u001b[0;36mpreliminary_search_per_i\u001b[0;34m(initial_l, k, step_size, M, p, buff_day, S0, r, g, x0, T0, lifespan, max_iter)\u001b[0m\n\u001b[1;32m      8\u001b[0m \u001b[38;5;28;01mfor\u001b[39;00m _ \u001b[38;5;129;01min\u001b[39;00m \u001b[38;5;28mrange\u001b[39m(max_iter):\n\u001b[1;32m      9\u001b[0m     \u001b[38;5;28mprint\u001b[39m(\u001b[38;5;124m\"\u001b[39m\u001b[38;5;124ml: \u001b[39m\u001b[38;5;124m\"\u001b[39m, l)\n\u001b[0;32m---> 10\u001b[0m     avg_res, fee_avg_res, _ \u001b[38;5;241m=\u001b[39m MC(M, k, p, buff_day, S0, r, g, x0, T0, lifespan, l)\n\u001b[1;32m     11\u001b[0m     \u001b[38;5;28mprint\u001b[39m(\u001b[38;5;124m\"\u001b[39m\u001b[38;5;124mmax(exp(g*t), S_t): \u001b[39m\u001b[38;5;124m\"\u001b[39m, avg_res)\n\u001b[1;32m     12\u001b[0m     \u001b[38;5;28mprint\u001b[39m(\u001b[38;5;124m\"\u001b[39m\u001b[38;5;124mfee_avg_res: \u001b[39m\u001b[38;5;124m\"\u001b[39m, fee_avg_res)\n",
      "Cell \u001b[0;32mIn[3], line 13\u001b[0m, in \u001b[0;36mMC\u001b[0;34m(M, k, p, buff_day, S0, r, g, x0, T0, lifespan, l)\u001b[0m\n\u001b[1;32m     10\u001b[0m fee_result \u001b[38;5;241m=\u001b[39m []\n\u001b[1;32m     12\u001b[0m \u001b[38;5;28;01mfor\u001b[39;00m _ \u001b[38;5;129;01min\u001b[39;00m \u001b[38;5;28mrange\u001b[39m(M):\n\u001b[0;32m---> 13\u001b[0m     t_all, int_item \u001b[38;5;241m=\u001b[39m ST\u001b[38;5;241m.\u001b[39mintg_item(N, T, S0, r, l, g, sigma)\n\u001b[1;32m     14\u001b[0m     intern_res \u001b[38;5;241m=\u001b[39m \u001b[38;5;241m0\u001b[39m  \u001b[38;5;66;03m# 内部的离散积分值，这里以年为单位\u001b[39;00m\n\u001b[1;32m     15\u001b[0m     int_death_payoff \u001b[38;5;241m=\u001b[39m \u001b[38;5;241m0\u001b[39m\n",
      "File \u001b[0;32m~/MC_Death_benefit/option value/ST.py:51\u001b[0m, in \u001b[0;36mintg_item\u001b[0;34m(N, T, S0, r, l, g, sigma)\u001b[0m\n\u001b[1;32m     49\u001b[0m W \u001b[38;5;241m=\u001b[39m np\u001b[38;5;241m.\u001b[39mzeros(N)\n\u001b[1;32m     50\u001b[0m lgSt \u001b[38;5;241m=\u001b[39m np\u001b[38;5;241m.\u001b[39mzeros(N)\n\u001b[0;32m---> 51\u001b[0m W[\u001b[38;5;241m1\u001b[39m:] \u001b[38;5;241m=\u001b[39m np\u001b[38;5;241m.\u001b[39mcumsum(np\u001b[38;5;241m.\u001b[39msqrt(dt)\u001b[38;5;241m*\u001b[39mnp\u001b[38;5;241m.\u001b[39mrandom\u001b[38;5;241m.\u001b[39mstandard_normal(size\u001b[38;5;241m=\u001b[39mN\u001b[38;5;241m-\u001b[39m\u001b[38;5;241m1\u001b[39m))  \u001b[38;5;66;03m# 累积和\u001b[39;00m\n\u001b[1;32m     52\u001b[0m lgSt[\u001b[38;5;241m0\u001b[39m] \u001b[38;5;241m=\u001b[39m np\u001b[38;5;241m.\u001b[39mlog(S0)\n\u001b[1;32m     53\u001b[0m lgSt[\u001b[38;5;241m1\u001b[39m:] \u001b[38;5;241m=\u001b[39m np\u001b[38;5;241m.\u001b[39mcumsum((r \u001b[38;5;241m-\u001b[39m l \u001b[38;5;241m-\u001b[39m \u001b[38;5;241m0.5\u001b[39m \u001b[38;5;241m*\u001b[39m sigma\u001b[38;5;241m*\u001b[39m\u001b[38;5;241m*\u001b[39m\u001b[38;5;241m2\u001b[39m) \u001b[38;5;241m*\u001b[39m dt \u001b[38;5;241m+\u001b[39m sigma \u001b[38;5;241m*\u001b[39m (W[\u001b[38;5;241m1\u001b[39m:] \u001b[38;5;241m-\u001b[39m W[\u001b[38;5;241m0\u001b[39m:\u001b[38;5;241m-\u001b[39m\u001b[38;5;241m1\u001b[39m]))  \u001b[38;5;66;03m# 迭代生成\u001b[39;00m\n",
      "\u001b[0;31mKeyboardInterrupt\u001b[0m: "
     ]
    }
   ],
   "source": [
    "# 初始化参数\n",
    "M = 8000\n",
    "x0 = 67\n",
    "T0 = 2020\n",
    "lifespan = 92\n",
    "\n",
    "S0 = 1.0\n",
    "p = 1\n",
    "buff_day = 10*21*12\n",
    "r = 0.05\n",
    "g = 0\n",
    "tolerance = 1e-6 \n",
    "step_size = 0.0006 #preliminary_search_per_i\n",
    "k = 24    ####这次想要计算出来的年龄是多少的，k = 0,1,...,24\n",
    "initial_l = 0.15\n",
    "\n",
    "best_ls = []  # 用于存储每个索引i对应的最优l值\n",
    "min_differences = []  # 用于存储每个索引i对应的最小差值\n",
    "\n",
    "print(\"k:\", k)\n",
    "lower_l, upper_l = preliminary_search_per_i(initial_l, k, step_size, M, p, buff_day, S0, r, g, x0, T0, lifespan, max_iter=100)\n",
    "print(f\"索引{k},的lower_l, upper_l: {lower_l}, {upper_l}\")\n",
    "\n",
    "if lower_l is not None and upper_l is not None:\n",
    "    fine_step_size = 0.00001  # 精细搜索步长 \n",
    "    best_l, min_difference = fine_search_per_i(M, k, p, buff_day, S0, r, g, x0, T0, lifespan, lower_l, upper_l, fine_step_size)\n",
    "    best_ls.append(best_l)\n",
    "    min_differences.append(min_difference)\n",
    "    print(f\"Index {k}: Best l value: {best_l} with minimum difference: {min_difference}\")\n",
    "else:\n",
    "    best_ls.append(None)\n",
    "    min_differences.append(None)\n",
    "    print(f\"Index {k}: Unable to find suitable l interval during preliminary search.\")"
   ]
  },
  {
   "cell_type": "code",
   "execution_count": null,
   "metadata": {},
   "outputs": [],
   "source": []
  }
 ],
 "metadata": {
  "kernelspec": {
   "display_name": "hhf_insurance",
   "language": "python",
   "name": "python3"
  },
  "language_info": {
   "codemirror_mode": {
    "name": "ipython",
    "version": 3
   },
   "file_extension": ".py",
   "mimetype": "text/x-python",
   "name": "python",
   "nbconvert_exporter": "python",
   "pygments_lexer": "ipython3",
   "version": "3.11.5"
  }
 },
 "nbformat": 4,
 "nbformat_minor": 2
}
