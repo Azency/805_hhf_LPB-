{
 "cells": [
  {
   "cell_type": "markdown",
   "metadata": {},
   "source": [
    "#Assume \\tau <= K, where \\tau is lifetime random variable and K is Contract termination.\n",
    "#Underling stock S_t = (r - l) S_t dt + \\sigma dB_t, S_0 = 1.   Here r is interest rate, l is risk charge, and sigma is volatility of stock.\n",
    "#Option payoff E_x[V^g] &= E[\\exp^{-r\\tau} \\times \\int_0^\\infty Max{\\exp{g\\tau} - S_\\tau, 0}d \\phi_t]\n",
    "<!-- #                       &= \\int_0^K \\lambda exp^{-\\lambda t} \\exp{-rt} \\int_0^\\infty Max{\\exp{g\\tau} - S_\\tau, 0}d \\phi_t dt -->\n",
    "<!-- #                       here \\lambda is force of death mortality, g is rising-floor rate, and \\phi_t is price density function. -->\n",
    "\n",
    "#Target when \\sigma = 0.20, r = 0.06, \\lambda = 1/35, l = 0.0125, g = 0\n",
    "#Compare Titanic Option E_x[V^g] = 2.85%"
   ]
  },
  {
   "cell_type": "code",
   "execution_count": 4,
   "metadata": {},
   "outputs": [],
   "source": [
    "import math\n",
    "import numpy as np\n",
    "import matplotlib.pyplot as plt\n",
    "import scipy.integrate as spi\n",
    "import sympy as sp"
   ]
  },
  {
   "cell_type": "markdown",
   "metadata": {},
   "source": [
    "1. 调整T = 40，M = 100， 0.028851222661773618\n",
    "1. 调整T = 40，M = 100， 0.0282524351119871\n",
    "1. 调整T = 40，M = 100， 0.028337673292643025\n",
    "1. 调整T = 40，M = 100， 0.02852353720652563\n",
    "1. 调整T = 40，M = 100， 0.028716563920467068"
   ]
  },
  {
   "cell_type": "code",
   "execution_count": null,
   "metadata": {},
   "outputs": [],
   "source": [
    "# 参数设置\n",
    "S0 = 1      # 初始资产价格\n",
    "T = 40.0    # 总时长（例如1年）\n",
    "r = 0.06    # 风险无关利率\n",
    "sigma = 0.2 # 波动率\n",
    "dt = 0.01   # 时间步长\n",
    "N = 500     # 总步数\n",
    "g = 0\n",
    "lamda = 1/35\n",
    "M = 100  # 例如，进行100次积分\n",
    "MC_number = 2   # 将5次MC的结果进行平均，更稳定"
   ]
  },
  {
   "cell_type": "code",
   "execution_count": 5,
   "metadata": {},
   "outputs": [],
   "source": [
    "# 定义股价模拟函数\n",
    "def stock_SDE(S0, r, sigma, dt, N, l):\n",
    "    S = np.zeros(N)\n",
    "    S[0] = S0\n",
    "    for t in range(1, N):\n",
    "        Z = np.random.normal(0, 1)\n",
    "        S[t] = S[t-1] * np.exp((r - l - 0.5 * sigma**2) * dt + sigma * np.sqrt(dt) * Z)\n",
    "    return S[N-1]\n",
    "\n",
    "# 定义期权收益函数\n",
    "def option_payoff(g, t, S0, r, sigma, dt, N, l):\n",
    "    return max(np.exp(g * t) - stock_SDE(S0, r, sigma, dt, N, l), 0)\n",
    "\n",
    "# 定义单次积分函数\n",
    "def single_V(t, l):\n",
    "    return lamda * np.exp(-lamda * t) * np.exp(-r * t) * option_payoff(g, t, S0, r, sigma, dt, N, l)\n",
    "\n",
    "# 定义多次积分值的均值计算函数\n",
    "def average_int_death_payoff(l, M):\n",
    "    results = []\n",
    "    for _ in range(M):\n",
    "        result, _ = spi.quad(single_V, 0, T, args=(l,))\n",
    "        results.append(result)\n",
    "    print(\"积分均值：\",np.mean(results))\n",
    "    return np.mean(results)\n",
    "\n",
    "# 定义费用流函数\n",
    "def fee_flows(l):\n",
    "    return l / (lamda + l)"
   ]
  },
  {
   "cell_type": "code",
   "execution_count": 6,
   "metadata": {},
   "outputs": [
    {
     "name": "stderr",
     "output_type": "stream",
     "text": [
      "/tmp/ipykernel_8690/1270861124.py:32: IntegrationWarning: The integral is probably divergent, or slowly convergent.\n",
      "  result, _ = spi.quad(single_V, 0, T, args=(l,))\n",
      "/tmp/ipykernel_8690/1270861124.py:32: IntegrationWarning: The maximum number of subdivisions (50) has been achieved.\n",
      "  If increasing the limit yields no improvement it is advised to analyze \n",
      "  the integrand in order to determine the difficulties.  If the position of a \n",
      "  local difficulty can be determined (singularity, discontinuity) one will \n",
      "  probably gain from splitting up the interval and calling the integrator \n",
      "  on the subranges.  Perhaps a special-purpose integrator should be used.\n",
      "  result, _ = spi.quad(single_V, 0, T, args=(l,))\n"
     ]
    },
    {
     "name": "stdout",
     "output_type": "stream",
     "text": [
      "积分均值： 0.02298795263922697\n",
      "积分均值： 0.023588030329248815\n",
      "回合 0 , average_MC: 0.023287991484237894\n",
      "回合 0 , fee_flows: 0.0\n",
      "回合 0 , diff: 0.023287991484237894\n",
      "回合 0 , optimal_l: 0.0\n",
      "积分均值： 0.023553186696881258\n",
      "积分均值： 0.023792151209928468\n",
      "回合 1 , average_MC: 0.023672668953404863\n",
      "回合 1 , fee_flows: 0.033816425120772944\n",
      "回合 1 , diff: 0.010143756167368081\n",
      "回合 1 , optimal_l: 0.001\n",
      "Optimal l: 0.001\n"
     ]
    }
   ],
   "source": [
    "\n",
    "optimal_l = None\n",
    "min_diff = float('inf')\n",
    "\n",
    "j = 0\n",
    "\n",
    "for l_candidate in np.linspace(0, 0.001, 2):  # 尝试不同的 l 值\n",
    "    average_MC = []\n",
    "\n",
    "    for _ in range(MC_number):\n",
    "        average_payoff = average_int_death_payoff(l_candidate, M)\n",
    "        average_MC.append(average_payoff)\n",
    "\n",
    "    average_MC_payoff = np.mean(average_MC)\n",
    "    print(\"回合\",j,\", average_MC:\", average_MC_payoff)\n",
    "    fee_flow = fee_flows(l_candidate)\n",
    "    print(\"回合\",j,\", fee_flows:\", fee_flow)\n",
    "\n",
    "    diff = abs(average_MC_payoff - fee_flow)\n",
    "    if diff < min_diff:\n",
    "        min_diff = diff\n",
    "        print(\"回合\",j,\", diff:\",diff)\n",
    "        optimal_l = l_candidate\n",
    "        print(\"回合\",j,\", optimal_l:\",optimal_l)\n",
    "    j  = j+1\n",
    "print(\"Optimal l:\", optimal_l)"
   ]
  }
 ],
 "metadata": {
  "kernelspec": {
   "display_name": "base",
   "language": "python",
   "name": "python3"
  },
  "language_info": {
   "codemirror_mode": {
    "name": "ipython",
    "version": 3
   },
   "file_extension": ".py",
   "mimetype": "text/x-python",
   "name": "python",
   "nbconvert_exporter": "python",
   "pygments_lexer": "ipython3",
   "version": "3.11.5"
  }
 },
 "nbformat": 4,
 "nbformat_minor": 2
}
